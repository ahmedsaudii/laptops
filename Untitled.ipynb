{
 "cells": [
  {
   "cell_type": "code",
   "execution_count": 1,
   "id": "fdac4eb1",
   "metadata": {},
   "outputs": [],
   "source": [
    "from bs4 import BeautifulSoup\n",
    "import requests\n",
    "import pandas as pd\n",
    "import numpy as np\n",
    "import urllib.parse\n",
    "import csv"
   ]
  },
  {
   "cell_type": "code",
   "execution_count": 2,
   "id": "f9c1f88e",
   "metadata": {},
   "outputs": [],
   "source": [
    "names=[]\n",
    "prices=[]\n",
    "urls=[]\n",
    "details=[]\n",
    "for i in range (1,2):\n",
    "    website= 'https://www.laptopsdirect.co.uk/ct/laptops-and-netbooks/laptops?pageNumber='+str(i)\n",
    "    response=requests.get(website)\n",
    "    assert response.status_code==200\n",
    "    contents=BeautifulSoup(response.content,('html.parser'))\n",
    "    laptop=contents.find('div',id='products')\n",
    "    root='https://www.laptopsdirect.co.uk'\n",
    "    name=laptop.find_all('a',class_='offerboxtitle')\n",
    "    price=laptop.find_all('span',class_='offerbrice')\n",
    "    url=laptop.find_all('a',class_='offerboxtitle')\n",
    "    detail=laptop.find_all('ul')\n",
    "    for n in name:\n",
    "        try:\n",
    "            names.append(n.text.strip())\n",
    "        except:\n",
    "             names.append(\"n/a\")\n",
    "    for p in price:\n",
    "        try:\n",
    "            prices.append(p.text.strip())\n",
    "        except:\n",
    "            prices.append(\"n/a\")\n",
    "    for u in url:\n",
    "        try:\n",
    "            urls.append(u.get('href'))\n",
    "        except:\n",
    "            urls.append(\"n/a\")\n",
    "    for d in detail:\n",
    "        try:\n",
    "            details.append(d.text.strip())\n",
    "        except:\n",
    "            details.append(\"n/a\")"
   ]
  },
  {
   "cell_type": "code",
   "execution_count": null,
   "id": "a733cdb5",
   "metadata": {},
   "outputs": [],
   "source": [
    "compine_urls=[]\n",
    "for link in urls:\n",
    "    urls.append(urllib.parse.urljoin(root,link))"
   ]
  },
  {
   "cell_type": "code",
   "execution_count": null,
   "id": "0e97479a",
   "metadata": {},
   "outputs": [],
   "source": [
    "product_over_view=pd.DataFrame({'names':names,'prices':prices,'urls':urls,'details':details})"
   ]
  },
  {
   "cell_type": "code",
   "execution_count": null,
   "id": "1999b29b",
   "metadata": {},
   "outputs": [],
   "source": [
    "product_over_view"
   ]
  },
  {
   "cell_type": "code",
   "execution_count": null,
   "id": "439378fa",
   "metadata": {},
   "outputs": [],
   "source": []
  }
 ],
 "metadata": {
  "kernelspec": {
   "display_name": "Python 3 (ipykernel)",
   "language": "python",
   "name": "python3"
  },
  "language_info": {
   "codemirror_mode": {
    "name": "ipython",
    "version": 3
   },
   "file_extension": ".py",
   "mimetype": "text/x-python",
   "name": "python",
   "nbconvert_exporter": "python",
   "pygments_lexer": "ipython3",
   "version": "3.10.9"
  }
 },
 "nbformat": 4,
 "nbformat_minor": 5
}
